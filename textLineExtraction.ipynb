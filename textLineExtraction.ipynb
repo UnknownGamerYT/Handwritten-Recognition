{
 "cells": [
  {
   "cell_type": "code",
   "execution_count": null,
   "id": "initial_id",
   "metadata": {
    "collapsed": true,
    "is_executing": true
   },
   "outputs": [],
   "source": [
    "# This code was accessed from the following GitHub: https://github.com/lcukerd/Suleman/tree/master\n",
    "# We have used the code produced by Suleman et al. for extracting text lines from text\n",
    "from Processing import *\n",
    "from ImageHandler import *\n",
    "from ImageProcessing import *\n",
    "from GeometryProcessing import *\n",
    "\n",
    "import globalVar"
   ]
  },
  {
   "cell_type": "code",
   "execution_count": null,
   "outputs": [],
   "source": [
    "image = loadImage(\"Closing_Image_5\")\n",
    "labels, avg_height, centroids, DemoImg, stats = findComponents(image)\n",
    "linesO = findHoughLines(DemoImg, image, avg_height, 139, 5, 5)"
   ],
   "metadata": {
    "collapsed": false
   },
   "id": "27684b67fc1c4ed7"
  }
 ],
 "metadata": {
  "kernelspec": {
   "display_name": "Python 3",
   "language": "python",
   "name": "python3"
  },
  "language_info": {
   "codemirror_mode": {
    "name": "ipython",
    "version": 2
   },
   "file_extension": ".py",
   "mimetype": "text/x-python",
   "name": "python",
   "nbconvert_exporter": "python",
   "pygments_lexer": "ipython2",
   "version": "2.7.6"
  }
 },
 "nbformat": 4,
 "nbformat_minor": 5
}
